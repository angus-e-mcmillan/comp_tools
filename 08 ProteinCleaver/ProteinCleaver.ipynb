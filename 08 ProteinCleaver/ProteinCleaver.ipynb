{
 "cells": [
  {
   "cell_type": "code",
   "execution_count": 7,
   "id": "0eb67821",
   "metadata": {},
   "outputs": [],
   "source": [
    "# Here we are defining amine acid molecular weights. You can add new unatrual amino acids by giving them a unqiue one letter code and then subtracted 18 from their molecule weight.\n",
    "# For example, B is norleucine (Nle) and O is homoserine (Hse).\n",
    "aa_residue_masses = {'A' : 71.08, 'R' : 156.19, 'N' : 114.11, 'D' : 115.09, 'C' : 103.15, 'E' : 129.12, 'Q' : 128.13, 'G' : 57.05, 'H' : 137.14, 'I' : 113.16, 'L' : 113.16, 'K' : 128.18, 'M' : 131.20, 'F' : 147.18, 'P' : 97.12, 'S' : 87.08, 'T' : 101.11, 'W' : 186.22, 'Y' : 163.18, 'V' : 99.13, 'B' : 113.16, 'O' : 101.11} "
   ]
  },
  {
   "cell_type": "code",
   "execution_count": 27,
   "id": "90bdcc92",
   "metadata": {
    "scrolled": true
   },
   "outputs": [],
   "source": [
    "# Here we are asking for the sequence of the protein in one letter code.\n",
    "sequence = input()"
   ]
  },
  {
   "cell_type": "code",
   "execution_count": 28,
   "id": "b40bd7c6",
   "metadata": {
    "scrolled": true
   },
   "outputs": [],
   "source": [
    "# Here we are asking for the mass you idenfitied. This should be the [M+H]+ ion, so the molecular weight of fragment +1.\n",
    "mass_found = float(input())"
   ]
  },
  {
   "cell_type": "code",
   "execution_count": 29,
   "id": "ad7cd207",
   "metadata": {
    "scrolled": true
   },
   "outputs": [
    {
     "name": "stdout",
     "output_type": "stream",
     "text": [
      "['ADKAKM', 662.8199999999999]\n"
     ]
    }
   ],
   "source": [
    "# Now we will search through your sequence for a peptide sequence which matches your input mass.\n",
    "i = 0\n",
    "j = 1\n",
    "k = 0\n",
    "mass = 18.01\n",
    "Answer = []\n",
    "while i <= len(sequence) - 1:\n",
    "    while j <= len(sequence):\n",
    "        fragment = sequence[i:j]\n",
    "        while k < len(fragment):\n",
    "            mass += aa_residue_masses[fragment[k]]\n",
    "            k += 1\n",
    "        if mass >= mass_found - 2 and mass <= mass_found + 2:\n",
    "            Answer.append(fragment)\n",
    "            Answer.append(mass)\n",
    "            mass = 18.01\n",
    "            k = 0\n",
    "        else:\n",
    "            mass = 18.01\n",
    "            k = 0\n",
    "        j += 1\n",
    "    i += 1\n",
    "    j = 0\n",
    "print(Answer)"
   ]
  },
  {
   "cell_type": "code",
   "execution_count": null,
   "id": "6fc074d4",
   "metadata": {},
   "outputs": [],
   "source": []
  }
 ],
 "metadata": {
  "kernelspec": {
   "display_name": "Python 3 (ipykernel)",
   "language": "python",
   "name": "python3"
  },
  "language_info": {
   "codemirror_mode": {
    "name": "ipython",
    "version": 3
   },
   "file_extension": ".py",
   "mimetype": "text/x-python",
   "name": "python",
   "nbconvert_exporter": "python",
   "pygments_lexer": "ipython3",
   "version": "3.10.13"
  }
 },
 "nbformat": 4,
 "nbformat_minor": 5
}
