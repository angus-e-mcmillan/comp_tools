{
 "cells": [
  {
   "cell_type": "code",
   "execution_count": 1,
   "metadata": {},
   "outputs": [],
   "source": [
    "#Week6 FileI/O"
   ]
  },
  {
   "cell_type": "code",
   "execution_count": 1,
   "metadata": {},
   "outputs": [],
   "source": [
    "#So far, programs have stored stuff in memory. File I/O loads information and writes information to files. Let's stop using only memory."
   ]
  },
  {
   "cell_type": "code",
   "execution_count": 2,
   "metadata": {},
   "outputs": [
    {
     "name": "stdout",
     "output_type": "stream",
     "text": [
      "hello, Angus\n"
     ]
    }
   ],
   "source": [
    "name = input(\"What's your name?\")\n",
    "print(f\"hello, {name}\")"
   ]
  },
  {
   "cell_type": "code",
   "execution_count": 4,
   "metadata": {},
   "outputs": [
    {
     "name": "stdout",
     "output_type": "stream",
     "text": [
      "hello, Angus\n",
      "hello, Ewan\n",
      "hello, Rona\n"
     ]
    }
   ],
   "source": [
    "names = []\n",
    "\n",
    "for _ in range(3):\n",
    "    name = input(\"What's your name?\")\n",
    "    names.append(name)\n",
    "\n",
    "for name in sorted(names):\n",
    "    print(f\"hello, {name}\")"
   ]
  },
  {
   "cell_type": "code",
   "execution_count": 16,
   "metadata": {},
   "outputs": [],
   "source": [
    "#Lets write a file which contains names. We can run it multiple times to append new names to a new line\n",
    "name = input(\"What's your name?\")\n",
    "\n",
    "with open(\"names.txt\", \"a\") as file:\n",
    "    file.write(f\"{name}\\n\")\n"
   ]
  },
  {
   "cell_type": "code",
   "execution_count": 19,
   "metadata": {},
   "outputs": [
    {
     "name": "stdout",
     "output_type": "stream",
     "text": [
      "hello, Ron\n",
      "hello, Harry\n",
      "hello, Draco\n"
     ]
    }
   ],
   "source": [
    "#Now we can open that file and read out each of the names\n",
    "with open(\"names.txt\", \"r\") as file:\n",
    "    lines = file.readlines()\n",
    "\n",
    "for line in lines:\n",
    "    print(\"hello,\", line.rstrip())"
   ]
  },
  {
   "cell_type": "code",
   "execution_count": 20,
   "metadata": {},
   "outputs": [
    {
     "name": "stdout",
     "output_type": "stream",
     "text": [
      "hello, Ron\n",
      "hello, Harry\n",
      "hello, Draco\n"
     ]
    }
   ],
   "source": [
    "#An alternative solution, its shorter\n",
    "with open(\"names.txt\", \"r\") as file:\n",
    "    for line in file:\n",
    "        print(\"hello,\", line.rstrip())"
   ]
  },
  {
   "cell_type": "code",
   "execution_count": 22,
   "metadata": {},
   "outputs": [
    {
     "name": "stdout",
     "output_type": "stream",
     "text": [
      "hello, Draco\n",
      "hello, Harry\n",
      "hello, Ron\n"
     ]
    }
   ],
   "source": [
    "#Lets sort the names alphabetically\n",
    "names = []\n",
    "\n",
    "with open(\"names.txt\") as file:\n",
    "    for line in file:\n",
    "        names.append(line.rstrip())\n",
    "\n",
    "for name in sorted(names):\n",
    "    print(f\"hello, {name}\")\n"
   ]
  },
  {
   "cell_type": "markdown",
   "metadata": {},
   "source": []
  },
  {
   "cell_type": "code",
   "execution_count": 23,
   "metadata": {},
   "outputs": [
    {
     "name": "stdout",
     "output_type": "stream",
     "text": [
      "hello, Draco\n",
      "hello, Harry\n",
      "hello, Ron\n"
     ]
    }
   ],
   "source": [
    "#A shorter version\n",
    "with open(\"names.txt\") as file:\n",
    "    for line in sorted(file):\n",
    "        print(\"hello,\", line.rstrip())"
   ]
  },
  {
   "cell_type": "code",
   "execution_count": 26,
   "metadata": {},
   "outputs": [
    {
     "name": "stdout",
     "output_type": "stream",
     "text": [
      "Herminoe is in Gryffindor\n",
      "Harry is in Gryffindor\n",
      "Ron is in Gryffindor\n",
      "Draco is in Slytherin\n"
     ]
    }
   ],
   "source": [
    "#CSV comma seperated file\n",
    "with open(\"students.csv\") as file:\n",
    "    for line in file:\n",
    "        row = line.rstrip().split(\",\")\n",
    "        print(f\"{row[0]} is in {row[1]}\")"
   ]
  },
  {
   "cell_type": "code",
   "execution_count": 27,
   "metadata": {},
   "outputs": [
    {
     "name": "stdout",
     "output_type": "stream",
     "text": [
      "Herminoe is in Gryffindor\n",
      "Harry is in Gryffindor\n",
      "Ron is in Gryffindor\n",
      "Draco is in Slytherin\n"
     ]
    }
   ],
   "source": [
    "#A neater version\n",
    "with open(\"students.csv\") as file:\n",
    "    for line in file:\n",
    "        name, house = line.rstrip().split(\",\")\n",
    "        print(f\"{name} is in {house}\")"
   ]
  },
  {
   "cell_type": "code",
   "execution_count": 35,
   "metadata": {},
   "outputs": [
    {
     "name": "stdout",
     "output_type": "stream",
     "text": [
      "Draco is in Slytherin\n",
      "Harry is in Gryffindor\n",
      "Herminoe is in Gryffindor\n",
      "Ron is in Gryffindor\n"
     ]
    }
   ],
   "source": [
    "#Lets sort by students name\n",
    "students = []\n",
    "\n",
    "with open(\"students.csv\") as file:\n",
    "    for line in file:\n",
    "        name, house = line.strip().split(\",\")\n",
    "        student = {\"name\": name, \"house\": house}\n",
    "        students.append(student)\n",
    "\n",
    "def get_name(student):\n",
    "    return student[\"name\"]\n",
    "\n",
    "for student in sorted(students, key=get_name):\n",
    "    print(f\"{student['name']} is in {student['house']}\")"
   ]
  },
  {
   "cell_type": "code",
   "execution_count": 40,
   "metadata": {},
   "outputs": [
    {
     "name": "stdout",
     "output_type": "stream",
     "text": [
      "Draco is from Malfoy Manor\n",
      "Harry is from Number Four, Privet Drive\n",
      "Ron is from The Borrow\n"
     ]
    }
   ],
   "source": [
    "#Lets look at where they live, breaks because \"Number four, privite drive\" contains a comma. Lets use a library for CSVs instead.\n",
    "import csv\n",
    "\n",
    "students = []\n",
    "\n",
    "with open(\"students2.csv\") as file:\n",
    "    reader = csv.reader(file)\n",
    "    for name, home in reader:\n",
    "        students.append({\"name\": name, \"home\": home})\n",
    "\n",
    "\n",
    "def get_name(student):\n",
    "    return student[\"name\"]\n",
    "\n",
    "for student in sorted(students, key=get_name):\n",
    "    print(f\"{student['name']} is from {student['home']}\")"
   ]
  },
  {
   "cell_type": "code",
   "execution_count": 41,
   "metadata": {},
   "outputs": [],
   "source": [
    "#Lets write into the CSV\n",
    "import csv\n",
    "\n",
    "name = input(\"What's your name?\")\n",
    "home = input(\"What's your home?\")\n",
    "\n",
    "with open(\"students2.csv\", \"a\") as file:\n",
    "    writer = csv.writer(file)\n",
    "    writer.writerow([name, home])\n"
   ]
  },
  {
   "cell_type": "code",
   "execution_count": null,
   "metadata": {},
   "outputs": [],
   "source": []
  }
 ],
 "metadata": {
  "kernelspec": {
   "display_name": "exp",
   "language": "python",
   "name": "python3"
  },
  "language_info": {
   "codemirror_mode": {
    "name": "ipython",
    "version": 3
   },
   "file_extension": ".py",
   "mimetype": "text/x-python",
   "name": "python",
   "nbconvert_exporter": "python",
   "pygments_lexer": "ipython3",
   "version": "3.9.10"
  }
 },
 "nbformat": 4,
 "nbformat_minor": 2
}
