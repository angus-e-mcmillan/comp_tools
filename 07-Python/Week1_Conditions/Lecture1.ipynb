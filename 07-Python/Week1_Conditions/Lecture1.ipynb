{
 "cells": [
  {
   "cell_type": "code",
   "execution_count": 6,
   "metadata": {},
   "outputs": [
    {
     "name": "stdout",
     "output_type": "stream",
     "text": [
      "x is equal to y\n"
     ]
    }
   ],
   "source": [
    "#Conditions using if\n",
    "#Compare\n",
    "x = int(input(\"What is x?\"))\n",
    "y = int(input(\"What is y?\"))\n",
    "    \n",
    "if x < y:\n",
    "    print(\"x is less than y\")\n",
    "if x > y:\n",
    "    print(\"x is greater than y\")\n",
    "if x == y:\n",
    "    print(\"x is equal to y\")"
   ]
  },
  {
   "cell_type": "code",
   "execution_count": 7,
   "metadata": {},
   "outputs": [],
   "source": [
    "#Control flow, the logic flow chart for a program \n",
    "#What makes this program badly designed?\n",
    "# It is repeitive, always asking 3 questions\n",
    "# Use elif to improve \"else if\""
   ]
  },
  {
   "cell_type": "code",
   "execution_count": 8,
   "metadata": {},
   "outputs": [
    {
     "name": "stdout",
     "output_type": "stream",
     "text": [
      "x is less than y\n"
     ]
    }
   ],
   "source": [
    "x = int(input(\"What is x?\"))\n",
    "y = int(input(\"What is y?\"))\n",
    "    \n",
    "if x < y:\n",
    "    print(\"x is less than y\")\n",
    "elif x > y:\n",
    "    print(\"x is greater than y\")\n",
    "elif x == y:\n",
    "    print(\"x is equal to y\")"
   ]
  },
  {
   "cell_type": "code",
   "execution_count": 9,
   "metadata": {},
   "outputs": [],
   "source": [
    "#Didnt notice any difference because such a short program but it is better...\n",
    "#Now we stop asking questions once we find a yes \n",
    "#But we can be even better by using else "
   ]
  },
  {
   "cell_type": "code",
   "execution_count": 10,
   "metadata": {},
   "outputs": [
    {
     "name": "stdout",
     "output_type": "stream",
     "text": [
      "x is equal to y\n"
     ]
    }
   ],
   "source": [
    "x = int(input(\"What is x?\"))\n",
    "y = int(input(\"What is y?\"))\n",
    "    \n",
    "if x < y:\n",
    "    print(\"x is less than y\")\n",
    "elif x > y:\n",
    "    print(\"x is greater than y\")\n",
    "else:\n",
    "    print(\"x is equal to y\")"
   ]
  },
  {
   "cell_type": "code",
   "execution_count": 12,
   "metadata": {},
   "outputs": [
    {
     "name": "stdout",
     "output_type": "stream",
     "text": [
      "x is equal to y\n"
     ]
    }
   ],
   "source": [
    "#We can ask a couple of questions at once using or\n",
    "\n",
    "x = int(input(\"What is x?\"))\n",
    "y = int(input(\"What is y?\"))\n",
    "\n",
    "if x < y or x > y:\n",
    "    print(\"x is not equal to y\")\n",
    "else:\n",
    "    print(\"x is equal to y\")"
   ]
  },
  {
   "cell_type": "code",
   "execution_count": 13,
   "metadata": {},
   "outputs": [
    {
     "name": "stdout",
     "output_type": "stream",
     "text": [
      "x is equal to y\n"
     ]
    }
   ],
   "source": [
    "#Can we improve this further?\n",
    "x = int(input(\"What is x?\"))\n",
    "y = int(input(\"What is y?\"))\n",
    "\n",
    "if x != y:\n",
    "    print(\"x is not equal to y\")\n",
    "else:\n",
    "    print(\"x is equal to y\")\n",
    "#This could also be fliped by asking if it is equal and then swapping the print statements\n"
   ]
  },
  {
   "cell_type": "code",
   "execution_count": 18,
   "metadata": {},
   "outputs": [
    {
     "name": "stdout",
     "output_type": "stream",
     "text": [
      "Grade: B\n"
     ]
    }
   ],
   "source": [
    "# We can also use \"and\"\n",
    "# New program for grading students tests \n",
    "\n",
    "score = int(input(\"Score: \"))\n",
    "\n",
    "if score >= 90 and score <= 100:\n",
    "    print(\"Grade:A\")\n",
    "elif score >= 80 and score < 90:\n",
    "    print(\"Grade: B\")\n",
    "elif score >= 70 and score < 80:\n",
    "    print(\"Grade: C\")\n",
    "elif score >= 60 and score < 70:\n",
    "    print(\"Grade: D\")\n",
    "else:\n",
    "    print(\"Grade: F\")"
   ]
  },
  {
   "cell_type": "code",
   "execution_count": 19,
   "metadata": {},
   "outputs": [
    {
     "name": "stdout",
     "output_type": "stream",
     "text": [
      "Grade: D\n"
     ]
    }
   ],
   "source": [
    "#Lets improve\n",
    "score = int(input(\"Score: \"))\n",
    "\n",
    "if 90 <= score <= 100:\n",
    "    print(\"Grade:A\")\n",
    "elif 80 <= score <= 90:\n",
    "    print(\"Grade: B\")\n",
    "elif 70 <= score <= 80:\n",
    "    print(\"Grade: C\")\n",
    "elif 60 <= score <= 70:\n",
    "    print(\"Grade: D\")\n",
    "else:\n",
    "    print(\"Grade: F\")"
   ]
  },
  {
   "cell_type": "code",
   "execution_count": 20,
   "metadata": {},
   "outputs": [
    {
     "name": "stdout",
     "output_type": "stream",
     "text": [
      "Grade: D\n"
     ]
    }
   ],
   "source": [
    "#Lets simplify more \n",
    "score = int(input(\"Score: \"))\n",
    "\n",
    "if score >= 90:\n",
    "    print(\"Grade:A\")\n",
    "elif score >= 80:\n",
    "    print(\"Grade: B\")\n",
    "elif score >= 70:\n",
    "    print(\"Grade: C\")\n",
    "elif score >= 60:\n",
    "    print(\"Grade: D\")\n",
    "else:\n",
    "    print(\"Grade: F\")"
   ]
  },
  {
   "cell_type": "code",
   "execution_count": 22,
   "metadata": {},
   "outputs": [
    {
     "name": "stdout",
     "output_type": "stream",
     "text": [
      "It is odd\n"
     ]
    }
   ],
   "source": [
    "#Parady tells us if something is even or odd, we use % modulo to get the remainder\n",
    "x = int(input(\"What is x?\"))\n",
    "\n",
    "if x % 2 == 0:\n",
    "    print(\"It is even\")\n",
    "else:\n",
    "    print(\"It is odd\")\n"
   ]
  },
  {
   "cell_type": "code",
   "execution_count": 24,
   "metadata": {},
   "outputs": [
    {
     "name": "stdout",
     "output_type": "stream",
     "text": [
      "Even\n"
     ]
    }
   ],
   "source": [
    "#Lets make a function for that...\n",
    "def main():\n",
    "    x = int(input(\"What is x?\"))\n",
    "    if is_even(x):\n",
    "        print(\"Even\")\n",
    "    else:\n",
    "        print(\"Odd\")\n",
    "\n",
    "def is_even(n):\n",
    "    if n % 2 == 0:\n",
    "        return True\n",
    "    else:\n",
    "        return False\n",
    "\n",
    "main()\n"
   ]
  },
  {
   "cell_type": "code",
   "execution_count": 26,
   "metadata": {},
   "outputs": [
    {
     "name": "stdout",
     "output_type": "stream",
     "text": [
      "Even\n"
     ]
    }
   ],
   "source": [
    "#Can we improve this...\n",
    "def main():\n",
    "    x = int(input(\"What is x?\"))\n",
    "    if is_even(x):\n",
    "        print(\"Even\")\n",
    "    else:\n",
    "        print(\"Odd\")\n",
    "\n",
    "def is_even(n):\n",
    "    return True if n % 2 == 0 else False\n",
    "\n",
    "main()\n"
   ]
  },
  {
   "cell_type": "code",
   "execution_count": 27,
   "metadata": {},
   "outputs": [
    {
     "name": "stdout",
     "output_type": "stream",
     "text": [
      "Even\n"
     ]
    }
   ],
   "source": [
    "#Even better\n",
    "def main():\n",
    "    x = int(input(\"What is x?\"))\n",
    "    if is_even(x):\n",
    "        print(\"Even\")\n",
    "    else:\n",
    "        print(\"Odd\")\n",
    "\n",
    "def is_even(n):\n",
    "    return n % 2 == 0\n",
    "\n",
    "main()\n"
   ]
  },
  {
   "cell_type": "code",
   "execution_count": 30,
   "metadata": {},
   "outputs": [
    {
     "name": "stdout",
     "output_type": "stream",
     "text": [
      "Who?\n"
     ]
    }
   ],
   "source": [
    "#match \n",
    "name = input(\"What is your name?\")\n",
    "\n",
    "if name == \"Harry\":\n",
    "    print(\"Gryffindor\")\n",
    "elif name == \"Hermione\":\n",
    "    print(\"Gryffindor\")\n",
    "elif name == \"Ron\":\n",
    "    print(\"Gryffindor\")\n",
    "elif name == \"Draco\":\n",
    "    print(\"Slytherin\")\n",
    "else:\n",
    "    print(\"Who?\")"
   ]
  },
  {
   "cell_type": "code",
   "execution_count": 31,
   "metadata": {},
   "outputs": [
    {
     "name": "stdout",
     "output_type": "stream",
     "text": [
      "Gryffindor\n"
     ]
    }
   ],
   "source": [
    "#Redundancy, asking so many questions \n",
    "name = input(\"What is your name?\")\n",
    "\n",
    "if name == \"Harry\" or name == \"Hermione\" or name == \"Ron\":\n",
    "    print(\"Gryffindor\")\n",
    "elif name == \"Draco\":\n",
    "    print(\"Slytherin\")\n",
    "else:\n",
    "    print(\"Who?\")"
   ]
  },
  {
   "cell_type": "code",
   "execution_count": 35,
   "metadata": {},
   "outputs": [
    {
     "name": "stdout",
     "output_type": "stream",
     "text": [
      "Who?\n"
     ]
    }
   ],
   "source": [
    "#We can also use match\n",
    "name = input(\"What is your name?\")\n",
    "\n",
    "match name:\n",
    "    case \"Harry\":\n",
    "        print(\"Gryffindor\")\n",
    "    case \"Ron\":\n",
    "        print(\"Gryffindor\")\n",
    "    case \"Harmione\":\n",
    "        print(\"Gryffindor\")\n",
    "    case \"Draco\":\n",
    "        print(\"Slytherin\")\n",
    "    case _:\n",
    "        print(\"Who?\")"
   ]
  },
  {
   "cell_type": "code",
   "execution_count": 36,
   "metadata": {},
   "outputs": [
    {
     "name": "stdout",
     "output_type": "stream",
     "text": [
      "Gryffindor\n"
     ]
    }
   ],
   "source": [
    "#Lets make it smaller\n",
    "name = input(\"What is your name?\")\n",
    "\n",
    "match name:\n",
    "    case \"Harry\"| \"Hermione\" | \"Ron\":\n",
    "        print(\"Gryffindor\")\n",
    "    case \"Draco\":\n",
    "        print(\"Slytherin\")\n",
    "    case _:\n",
    "        print(\"Who?\")"
   ]
  },
  {
   "cell_type": "code",
   "execution_count": 7,
   "metadata": {},
   "outputs": [
    {
     "name": "stdout",
     "output_type": "stream",
     "text": [
      "No\n"
     ]
    }
   ],
   "source": [
    "#DeepThought\n",
    "userinput = input(\"What is the Answer to the Great Question of Life, the Universe and Everything?\")\n",
    "\n",
    "if userinput == \"42\":\n",
    "    print(\"Yes\")\n",
    "elif userinput == \"forty-two\":\n",
    "    print(\"Yes\")\n",
    "elif userinput == \"forty two\":\n",
    "    print(\"Yes\")\n",
    "else:\n",
    "    print(\"No\")"
   ]
  },
  {
   "cell_type": "code",
   "execution_count": 31,
   "metadata": {},
   "outputs": [
    {
     "name": "stdout",
     "output_type": "stream",
     "text": [
      "what \n",
      "$0\n"
     ]
    }
   ],
   "source": [
    "#Bank\n",
    "greeting = input(\"Greeting: \")\n",
    "greeting = greeting.strip()\n",
    "greeting = greeting.lower()\n",
    "greeting = greeting[:5]\n",
    "firstletter = greeting[:1]\n",
    "print(greeting)\n",
    "\n",
    "if greeting == \"hello\":\n",
    "    print(\"$0\")\n",
    "elif firstletter == \"h\":\n",
    "    print(\"$20\")\n",
    "else:\n",
    "    print(\"$100\")"
   ]
  },
  {
   "cell_type": "code",
   "execution_count": 46,
   "metadata": {},
   "outputs": [
    {
     "name": "stdout",
     "output_type": "stream",
     "text": [
      "application/octet-stream\n"
     ]
    }
   ],
   "source": [
    "#Extensions\n",
    "file = input(\"File: \")\n",
    "x = file.split(\".\")\n",
    "x = x[-1]\n",
    "\n",
    "if x == \"gif\":\n",
    "    print(\"image/\" + x)\n",
    "elif x == \"jpg\":\n",
    "    print(\"image/\" + x)\n",
    "elif x == \"jpeg\":\n",
    "    print(\"image/\" + x)    \n",
    "elif x == \"pdf\":\n",
    "    print(\"application/\" + x)\n",
    "elif x == \"txt\":\n",
    "    print(\"application/\" + x)\n",
    "elif x == \"zip\":\n",
    "    print(\"application/\" + x)\n",
    "else:\n",
    "    print(\"application/octet-stream\")\n"
   ]
  },
  {
   "cell_type": "code",
   "execution_count": 69,
   "metadata": {},
   "outputs": [
    {
     "name": "stdout",
     "output_type": "stream",
     "text": [
      "10.0\n"
     ]
    }
   ],
   "source": [
    "#Interpreter\n",
    "\n",
    "sum = input(\"Sum: \")\n",
    "components = sum.split(\" \")\n",
    "x = int(components[0])\n",
    "y = components[1]\n",
    "z = int(components[2])\n",
    "\n",
    "if y == \"+\":\n",
    "    result = x + z\n",
    "elif y == \"-\":\n",
    "    result = x - z\n",
    "elif y == \"*\":\n",
    "    result = x * z\n",
    "elif y == \"/\":\n",
    "    result = x / z\n",
    "else:\n",
    "    print(\"What is operator?\")\n",
    "print(result)"
   ]
  },
  {
   "cell_type": "code",
   "execution_count": 95,
   "metadata": {},
   "outputs": [],
   "source": [
    "#Meal\n",
    "def main():\n",
    "    time = input(\"What is the time?\")\n",
    "    value = convert(time)\n",
    "\n",
    "    if 7.0 <= value <= 8.0:\n",
    "        print(\"Breakfast time\")\n",
    "    elif 12.0 <= value <= 13.0:\n",
    "        print(\"Lunch time\")\n",
    "    elif 18.0 <= value <= 19.0:\n",
    "        print(\"Dinner time\")\n",
    "\n",
    "def convert(time):\n",
    "    time = time.split(\":\")\n",
    "    hours = (time[0])\n",
    "    min = (time[1])\n",
    "    hours = float(hours)\n",
    "    min = float(min)\n",
    "    return hours + (min/60)\n",
    "\n",
    "\n",
    "if __name__ == \"__main__\":\n",
    "    main()"
   ]
  },
  {
   "cell_type": "code",
   "execution_count": null,
   "metadata": {},
   "outputs": [],
   "source": []
  }
 ],
 "metadata": {
  "kernelspec": {
   "display_name": "Python 3",
   "language": "python",
   "name": "python3"
  },
  "language_info": {
   "codemirror_mode": {
    "name": "ipython",
    "version": 3
   },
   "file_extension": ".py",
   "mimetype": "text/x-python",
   "name": "python",
   "nbconvert_exporter": "python",
   "pygments_lexer": "ipython3",
   "version": "3.11.9"
  }
 },
 "nbformat": 4,
 "nbformat_minor": 2
}
