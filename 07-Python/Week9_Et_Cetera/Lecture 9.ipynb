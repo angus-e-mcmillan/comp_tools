{
 "cells": [
  {
   "cell_type": "code",
   "execution_count": 5,
   "metadata": {},
   "outputs": [
    {
     "name": "stdout",
     "output_type": "stream",
     "text": [
      "Balance:  0\n",
      "Balance:  50\n"
     ]
    }
   ],
   "source": [
    "#bank.py\n",
    "#You can change or write to a global variable inside of a function\n",
    "\n",
    "balance = 0\n",
    "\n",
    "def main():\n",
    "    print(\"Balance: \", balance)\n",
    "    deposit(100)\n",
    "    withdraw(50)\n",
    "    print(\"Balance: \", balance)\n",
    "\n",
    "def deposit(n):\n",
    "    global balance\n",
    "    balance += n\n",
    "\n",
    "def withdraw(n):\n",
    "    global balance\n",
    "    balance -= n\n",
    "\n",
    "if __name__ == \"__main__\":\n",
    "    main()\n"
   ]
  },
  {
   "cell_type": "code",
   "execution_count": 8,
   "metadata": {},
   "outputs": [
    {
     "name": "stdout",
     "output_type": "stream",
     "text": [
      "Balance:  0\n",
      "Balance:  50\n"
     ]
    }
   ],
   "source": [
    "class Account:\n",
    "    def __init__(self):\n",
    "        self._balance = 0\n",
    "\n",
    "    @property\n",
    "    def balance(self):\n",
    "        return self._balance\n",
    "\n",
    "    def deposit(self, n):\n",
    "        self._balance += n\n",
    "\n",
    "    def withdraw(self,n):\n",
    "        self._balance -= n\n",
    "\n",
    "def main():\n",
    "    account = Account()\n",
    "    print(\"Balance: \", account.balance)\n",
    "    account.deposit(100)\n",
    "    account.withdraw(50)\n",
    "    print(\"Balance: \", account.balance)\n",
    "\n",
    "if __name__ == \"__main__\":\n",
    "    main()"
   ]
  },
  {
   "cell_type": "code",
   "execution_count": 10,
   "metadata": {},
   "outputs": [
    {
     "name": "stdout",
     "output_type": "stream",
     "text": [
      "meow\n",
      "meow\n",
      "meow\n"
     ]
    }
   ],
   "source": [
    "#Meows.py\n",
    "#Capitolise variables to indicate that a variable should not be changed\n",
    "\n",
    "class Cat:\n",
    "    MEOWS = 3\n",
    "\n",
    "    def meow(self):\n",
    "        for _ in range(Cat.MEOWS):\n",
    "            print(\"meow\")\n",
    "\n",
    "cat = Cat()\n",
    "cat.meow()"
   ]
  },
  {
   "cell_type": "code",
   "execution_count": 13,
   "metadata": {},
   "outputs": [
    {
     "name": "stdout",
     "output_type": "stream",
     "text": [
      "meow\n",
      "meow\n",
      "meow\n"
     ]
    }
   ],
   "source": [
    "#Type hint n: int tells python that this n should be an integer \n",
    "#My py understands type hints and fixes there type error problems \n",
    "#run \"mypy meows.py\"\n",
    "#Annotate variables and input to tell what type it should be\n",
    "\n",
    "def meow(n: int):\n",
    "    for _ in range(n):\n",
    "        print(\"meow\")\n",
    "\n",
    "number: int = int(input(\"Number: \"))\n",
    "meow(number)\n",
    "\n",
    "#We can tell what the return value is using -> this\n"
   ]
  },
  {
   "cell_type": "code",
   "execution_count": 15,
   "metadata": {},
   "outputs": [
    {
     "name": "stderr",
     "output_type": "stream",
     "text": [
      "usage: ipykernel_launcher.py [-h] [-n N]\n",
      "ipykernel_launcher.py: error: unrecognized arguments: --f=c:\\Users\\angus.mcmillan\\AppData\\Roaming\\jupyter\\runtime\\kernel-v2-2554496Ve3mbnTK15.json\n"
     ]
    },
    {
     "ename": "SystemExit",
     "evalue": "2",
     "output_type": "error",
     "traceback": [
      "An exception has occurred, use %tb to see the full traceback.\n",
      "\u001b[1;31mSystemExit\u001b[0m\u001b[1;31m:\u001b[0m 2\n"
     ]
    },
    {
     "name": "stderr",
     "output_type": "stream",
     "text": [
      "C:\\Users\\angus.mcmillan\\AppData\\Roaming\\Python\\Python39\\site-packages\\IPython\\core\\interactiveshell.py:3558: UserWarning: To exit: use 'exit', 'quit', or Ctrl-D.\n",
      "  warn(\"To exit: use 'exit', 'quit', or Ctrl-D.\", stacklevel=1)\n"
     ]
    }
   ],
   "source": [
    "#Lets use system arguments\n",
    "\n",
    "import argparse\n",
    "\n",
    "parser = argparse.ArgumentParser()\n",
    "parser.add_argument(\"-n\")\n",
    "args = parser.parse_args()\n",
    "\n",
    "for _ in range(int(args.n)):\n",
    "    print(\"meow\")\n"
   ]
  },
  {
   "cell_type": "code",
   "execution_count": 2,
   "metadata": {},
   "outputs": [
    {
     "name": "stdout",
     "output_type": "stream",
     "text": [
      "hello. Angus\n"
     ]
    }
   ],
   "source": [
    "#Unpacking we have something like Forename, Sirname and we \"unpack\" to forename and the sirname\n",
    "\n",
    "first, _ = input(\"What's your name? \").split(\" \")\n",
    "print(f\"hello, {first}\")"
   ]
  },
  {
   "cell_type": "code",
   "execution_count": 6,
   "metadata": {},
   "outputs": [
    {
     "name": "stdout",
     "output_type": "stream",
     "text": [
      "50775 Knuts\n"
     ]
    }
   ],
   "source": [
    "#Star (*) unpacks the list for us\n",
    "def total(galleons, sickles, knuts):\n",
    "    return (galleons * 17 + sickles) * 29 + knuts\n",
    "\n",
    "coins = [100, 50, 25]\n",
    "\n",
    "print(total(*coins), \"Knuts\")"
   ]
  },
  {
   "cell_type": "code",
   "execution_count": 7,
   "metadata": {},
   "outputs": [
    {
     "name": "stdout",
     "output_type": "stream",
     "text": [
      "50775 Knuts\n"
     ]
    }
   ],
   "source": [
    "#Lets use dictionary\n",
    "def total(galleons, sickles, knuts):\n",
    "    return (galleons * 17 + sickles) * 29 + knuts\n",
    "\n",
    "coins = {\"galleons\": 100, \"sickles\": 50, \"knuts\": 25}\n",
    "\n",
    "print(total(coins[\"galleons\"], coins[\"sickles\"], coins[\"knuts\"]), \"Knuts\")\n"
   ]
  },
  {
   "cell_type": "code",
   "execution_count": 8,
   "metadata": {},
   "outputs": [
    {
     "name": "stdout",
     "output_type": "stream",
     "text": [
      "50775 Knuts\n"
     ]
    }
   ],
   "source": [
    "#Lets use dictionary but lets unpack the dictionary using **\n",
    "def total(galleons, sickles, knuts):\n",
    "    return (galleons * 17 + sickles) * 29 + knuts\n",
    "\n",
    "coins = {\"galleons\": 100, \"sickles\": 50, \"knuts\": 25}\n",
    "\n",
    "print(total(**coins), \"Knuts\")"
   ]
  },
  {
   "cell_type": "code",
   "execution_count": 11,
   "metadata": {},
   "outputs": [
    {
     "name": "stdout",
     "output_type": "stream",
     "text": [
      "Named: {'halleons': 100, 'sickles': 50, 'knuts': 25}\n"
     ]
    }
   ],
   "source": [
    "#Kwargs automatically a dictionary of all arguments passed to a function\n",
    "\n",
    "def f(*args, **kwargs):\n",
    "    print(\"Named:\", kwargs)\n",
    "\n",
    "f(halleons=100, sickles=50, knuts=25)"
   ]
  },
  {
   "cell_type": "code",
   "execution_count": null,
   "metadata": {},
   "outputs": [],
   "source": []
  }
 ],
 "metadata": {
  "kernelspec": {
   "display_name": "Python 3",
   "language": "python",
   "name": "python3"
  },
  "language_info": {
   "codemirror_mode": {
    "name": "ipython",
    "version": 3
   },
   "file_extension": ".py",
   "mimetype": "text/x-python",
   "name": "python",
   "nbconvert_exporter": "python",
   "pygments_lexer": "ipython3",
   "version": "3.9.10"
  }
 },
 "nbformat": 4,
 "nbformat_minor": 2
}
