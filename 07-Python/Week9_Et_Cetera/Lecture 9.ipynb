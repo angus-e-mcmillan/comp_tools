{
 "cells": [
  {
   "cell_type": "code",
   "execution_count": 5,
   "metadata": {},
   "outputs": [
    {
     "name": "stdout",
     "output_type": "stream",
     "text": [
      "Balance:  0\n",
      "Balance:  50\n"
     ]
    }
   ],
   "source": [
    "#bank.py\n",
    "#You can change or write to a global variable inside of a function\n",
    "\n",
    "balance = 0\n",
    "\n",
    "def main():\n",
    "    print(\"Balance: \", balance)\n",
    "    deposit(100)\n",
    "    withdraw(50)\n",
    "    print(\"Balance: \", balance)\n",
    "\n",
    "def deposit(n):\n",
    "    global balance\n",
    "    balance += n\n",
    "\n",
    "def withdraw(n):\n",
    "    global balance\n",
    "    balance -= n\n",
    "\n",
    "if __name__ == \"__main__\":\n",
    "    main()\n"
   ]
  },
  {
   "cell_type": "code",
   "execution_count": 8,
   "metadata": {},
   "outputs": [
    {
     "name": "stdout",
     "output_type": "stream",
     "text": [
      "Balance:  0\n",
      "Balance:  50\n"
     ]
    }
   ],
   "source": [
    "class Account:\n",
    "    def __init__(self):\n",
    "        self._balance = 0\n",
    "\n",
    "    @property\n",
    "    def balance(self):\n",
    "        return self._balance\n",
    "\n",
    "    def deposit(self, n):\n",
    "        self._balance += n\n",
    "\n",
    "    def withdraw(self,n):\n",
    "        self._balance -= n\n",
    "\n",
    "def main():\n",
    "    account = Account()\n",
    "    print(\"Balance: \", account.balance)\n",
    "    account.deposit(100)\n",
    "    account.withdraw(50)\n",
    "    print(\"Balance: \", account.balance)\n",
    "\n",
    "if __name__ == \"__main__\":\n",
    "    main()"
   ]
  },
  {
   "cell_type": "code",
   "execution_count": 10,
   "metadata": {},
   "outputs": [
    {
     "name": "stdout",
     "output_type": "stream",
     "text": [
      "meow\n",
      "meow\n",
      "meow\n"
     ]
    }
   ],
   "source": [
    "#Meows.py\n",
    "#Capitolise variables to indicate that a variable should not be changed\n",
    "\n",
    "class Cat:\n",
    "    MEOWS = 3\n",
    "\n",
    "    def meow(self):\n",
    "        for _ in range(Cat.MEOWS):\n",
    "            print(\"meow\")\n",
    "\n",
    "cat = Cat()\n",
    "cat.meow()"
   ]
  },
  {
   "cell_type": "code",
   "execution_count": 13,
   "metadata": {},
   "outputs": [
    {
     "name": "stdout",
     "output_type": "stream",
     "text": [
      "meow\n",
      "meow\n",
      "meow\n"
     ]
    }
   ],
   "source": [
    "#Type hint n: int tells python that this n should be an integer \n",
    "#My py understands type hints and fixes there type error problems \n",
    "#run \"mypy meows.py\"\n",
    "#Annotate variables and input to tell what type it should be\n",
    "\n",
    "def meow(n: int):\n",
    "    for _ in range(n):\n",
    "        print(\"meow\")\n",
    "\n",
    "number: int = int(input(\"Number: \"))\n",
    "meow(number)\n",
    "\n",
    "#We can tell what the return value is using -> this\n"
   ]
  },
  {
   "cell_type": "code",
   "execution_count": 15,
   "metadata": {},
   "outputs": [
    {
     "name": "stderr",
     "output_type": "stream",
     "text": [
      "usage: ipykernel_launcher.py [-h] [-n N]\n",
      "ipykernel_launcher.py: error: unrecognized arguments: --f=c:\\Users\\angus.mcmillan\\AppData\\Roaming\\jupyter\\runtime\\kernel-v2-2554496Ve3mbnTK15.json\n"
     ]
    },
    {
     "ename": "SystemExit",
     "evalue": "2",
     "output_type": "error",
     "traceback": [
      "An exception has occurred, use %tb to see the full traceback.\n",
      "\u001b[1;31mSystemExit\u001b[0m\u001b[1;31m:\u001b[0m 2\n"
     ]
    },
    {
     "name": "stderr",
     "output_type": "stream",
     "text": [
      "C:\\Users\\angus.mcmillan\\AppData\\Roaming\\Python\\Python39\\site-packages\\IPython\\core\\interactiveshell.py:3558: UserWarning: To exit: use 'exit', 'quit', or Ctrl-D.\n",
      "  warn(\"To exit: use 'exit', 'quit', or Ctrl-D.\", stacklevel=1)\n"
     ]
    }
   ],
   "source": [
    "#Lets use system arguments\n",
    "\n",
    "import argparse\n",
    "\n",
    "parser = argparse.ArgumentParser()\n",
    "parser.add_argument(\"-n\")\n",
    "args = parser.parse_args()\n",
    "\n",
    "for _ in range(int(args.n)):\n",
    "    print(\"meow\")\n"
   ]
  },
  {
   "cell_type": "code",
   "execution_count": 2,
   "metadata": {},
   "outputs": [
    {
     "name": "stdout",
     "output_type": "stream",
     "text": [
      "hello. Angus\n"
     ]
    }
   ],
   "source": [
    "#Unpacking we have something like Forename, Sirname and we \"unpack\" to forename and the sirname\n",
    "\n",
    "first, _ = input(\"What's your name? \").split(\" \")\n",
    "print(f\"hello, {first}\")"
   ]
  },
  {
   "cell_type": "code",
   "execution_count": 6,
   "metadata": {},
   "outputs": [
    {
     "name": "stdout",
     "output_type": "stream",
     "text": [
      "50775 Knuts\n"
     ]
    }
   ],
   "source": [
    "#Star (*) unpacks the list for us\n",
    "def total(galleons, sickles, knuts):\n",
    "    return (galleons * 17 + sickles) * 29 + knuts\n",
    "\n",
    "coins = [100, 50, 25]\n",
    "\n",
    "print(total(*coins), \"Knuts\")"
   ]
  },
  {
   "cell_type": "code",
   "execution_count": 7,
   "metadata": {},
   "outputs": [
    {
     "name": "stdout",
     "output_type": "stream",
     "text": [
      "50775 Knuts\n"
     ]
    }
   ],
   "source": [
    "#Lets use dictionary\n",
    "def total(galleons, sickles, knuts):\n",
    "    return (galleons * 17 + sickles) * 29 + knuts\n",
    "\n",
    "coins = {\"galleons\": 100, \"sickles\": 50, \"knuts\": 25}\n",
    "\n",
    "print(total(coins[\"galleons\"], coins[\"sickles\"], coins[\"knuts\"]), \"Knuts\")\n"
   ]
  },
  {
   "cell_type": "code",
   "execution_count": 8,
   "metadata": {},
   "outputs": [
    {
     "name": "stdout",
     "output_type": "stream",
     "text": [
      "50775 Knuts\n"
     ]
    }
   ],
   "source": [
    "#Lets use dictionary but lets unpack the dictionary using **\n",
    "def total(galleons, sickles, knuts):\n",
    "    return (galleons * 17 + sickles) * 29 + knuts\n",
    "\n",
    "coins = {\"galleons\": 100, \"sickles\": 50, \"knuts\": 25}\n",
    "\n",
    "print(total(**coins), \"Knuts\")"
   ]
  },
  {
   "cell_type": "code",
   "execution_count": 11,
   "metadata": {},
   "outputs": [
    {
     "name": "stdout",
     "output_type": "stream",
     "text": [
      "Named: {'halleons': 100, 'sickles': 50, 'knuts': 25}\n"
     ]
    }
   ],
   "source": [
    "#Kwargs automatically a dictionary of all arguments passed to a function\n",
    "\n",
    "def f(*args, **kwargs):\n",
    "    print(\"Named:\", kwargs)\n",
    "\n",
    "f(halleons=100, sickles=50, knuts=25)"
   ]
  },
  {
   "cell_type": "code",
   "execution_count": 11,
   "metadata": {},
   "outputs": [
    {
     "name": "stdout",
     "output_type": "stream",
     "text": [
      "THIS IS CS50\n"
     ]
    }
   ],
   "source": [
    "#Functional programing\n",
    "#Yell to capitolize input\n",
    "\n",
    "def main():\n",
    "    yell(\"This\", \"is\", \"CS50\")\n",
    "\n",
    "def yell(*words):\n",
    "    uppercased = map(str.upper, words)\n",
    "    print(*uppercased)\n",
    "\n",
    "if __name__ == \"__main__\":\n",
    "    main()"
   ]
  },
  {
   "cell_type": "code",
   "execution_count": 12,
   "metadata": {},
   "outputs": [
    {
     "name": "stdout",
     "output_type": "stream",
     "text": [
      "THIS IS CS50\n"
     ]
    }
   ],
   "source": [
    "#List comprehensions\n",
    "\n",
    "def main():\n",
    "    yell(\"This\", \"is\", \"CS50\")\n",
    "\n",
    "def yell(*words):\n",
    "    uppercased = [word.upper() for word in words]\n",
    "    print(*uppercased)\n",
    "\n",
    "if __name__ == \"__main__\":\n",
    "    main()"
   ]
  },
  {
   "cell_type": "code",
   "execution_count": 15,
   "metadata": {},
   "outputs": [
    {
     "name": "stdout",
     "output_type": "stream",
     "text": [
      "1 Herminoe\n",
      "2 Harry\n",
      "3 Ron\n"
     ]
    }
   ],
   "source": [
    "#ennumerate\n",
    "students = [\"Herminoe\", \"Harry\", \"Ron\"]\n",
    "\n",
    "for i, student in enumerate(students):\n",
    "    print(i + 1, student)\n"
   ]
  },
  {
   "cell_type": "code",
   "execution_count": 23,
   "metadata": {},
   "outputs": [
    {
     "name": "stdout",
     "output_type": "stream",
     "text": [
      "\n",
      "sheep\n",
      "sheepsheep\n",
      "sheepsheepsheep\n",
      "sheepsheepsheepsheep\n",
      "sheepsheepsheepsheepsheep\n",
      "sheepsheepsheepsheepsheepsheep\n",
      "sheepsheepsheepsheepsheepsheepsheep\n",
      "sheepsheepsheepsheepsheepsheepsheepsheep\n",
      "sheepsheepsheepsheepsheepsheepsheepsheepsheep\n",
      "sheepsheepsheepsheepsheepsheepsheepsheepsheepsheep\n",
      "sheepsheepsheepsheepsheepsheepsheepsheepsheepsheepsheep\n",
      "sheepsheepsheepsheepsheepsheepsheepsheepsheepsheepsheepsheep\n",
      "sheepsheepsheepsheepsheepsheepsheepsheepsheepsheepsheepsheepsheep\n",
      "sheepsheepsheepsheepsheepsheepsheepsheepsheepsheepsheepsheepsheepsheep\n",
      "sheepsheepsheepsheepsheepsheepsheepsheepsheepsheepsheepsheepsheepsheepsheep\n",
      "sheepsheepsheepsheepsheepsheepsheepsheepsheepsheepsheepsheepsheepsheepsheepsheep\n",
      "sheepsheepsheepsheepsheepsheepsheepsheepsheepsheepsheepsheepsheepsheepsheepsheepsheep\n",
      "sheepsheepsheepsheepsheepsheepsheepsheepsheepsheepsheepsheepsheepsheepsheepsheepsheepsheep\n",
      "sheepsheepsheepsheepsheepsheepsheepsheepsheepsheepsheepsheepsheepsheepsheepsheepsheepsheepsheep\n",
      "sheepsheepsheepsheepsheepsheepsheepsheepsheepsheepsheepsheepsheepsheepsheepsheepsheepsheepsheepsheep\n",
      "sheepsheepsheepsheepsheepsheepsheepsheepsheepsheepsheepsheepsheepsheepsheepsheepsheepsheepsheepsheepsheep\n",
      "sheepsheepsheepsheepsheepsheepsheepsheepsheepsheepsheepsheepsheepsheepsheepsheepsheepsheepsheepsheepsheepsheep\n",
      "sheepsheepsheepsheepsheepsheepsheepsheepsheepsheepsheepsheepsheepsheepsheepsheepsheepsheepsheepsheepsheepsheepsheep\n",
      "sheepsheepsheepsheepsheepsheepsheepsheepsheepsheepsheepsheepsheepsheepsheepsheepsheepsheepsheepsheepsheepsheepsheepsheep\n",
      "sheepsheepsheepsheepsheepsheepsheepsheepsheepsheepsheepsheepsheepsheepsheepsheepsheepsheepsheepsheepsheepsheepsheepsheepsheep\n",
      "sheepsheepsheepsheepsheepsheepsheepsheepsheepsheepsheepsheepsheepsheepsheepsheepsheepsheepsheepsheepsheepsheepsheepsheepsheepsheep\n",
      "sheepsheepsheepsheepsheepsheepsheepsheepsheepsheepsheepsheepsheepsheepsheepsheepsheepsheepsheepsheepsheepsheepsheepsheepsheepsheepsheep\n",
      "sheepsheepsheepsheepsheepsheepsheepsheepsheepsheepsheepsheepsheepsheepsheepsheepsheepsheepsheepsheepsheepsheepsheepsheepsheepsheepsheepsheep\n",
      "sheepsheepsheepsheepsheepsheepsheepsheepsheepsheepsheepsheepsheepsheepsheepsheepsheepsheepsheepsheepsheepsheepsheepsheepsheepsheepsheepsheepsheep\n",
      "sheepsheepsheepsheepsheepsheepsheepsheepsheepsheepsheepsheepsheepsheepsheepsheepsheepsheepsheepsheepsheepsheepsheepsheepsheepsheepsheepsheepsheepsheep\n",
      "sheepsheepsheepsheepsheepsheepsheepsheepsheepsheepsheepsheepsheepsheepsheepsheepsheepsheepsheepsheepsheepsheepsheepsheepsheepsheepsheepsheepsheepsheepsheep\n",
      "sheepsheepsheepsheepsheepsheepsheepsheepsheepsheepsheepsheepsheepsheepsheepsheepsheepsheepsheepsheepsheepsheepsheepsheepsheepsheepsheepsheepsheepsheepsheepsheep\n",
      "sheepsheepsheepsheepsheepsheepsheepsheepsheepsheepsheepsheepsheepsheepsheepsheepsheepsheepsheepsheepsheepsheepsheepsheepsheepsheepsheepsheepsheepsheepsheepsheepsheep\n",
      "sheepsheepsheepsheepsheepsheepsheepsheepsheepsheepsheepsheepsheepsheepsheepsheepsheepsheepsheepsheepsheepsheepsheepsheepsheepsheepsheepsheepsheepsheepsheepsheepsheepsheep\n",
      "sheepsheepsheepsheepsheepsheepsheepsheepsheepsheepsheepsheepsheepsheepsheepsheepsheepsheepsheepsheepsheepsheepsheepsheepsheepsheepsheepsheepsheepsheepsheepsheepsheepsheepsheep\n",
      "sheepsheepsheepsheepsheepsheepsheepsheepsheepsheepsheepsheepsheepsheepsheepsheepsheepsheepsheepsheepsheepsheepsheepsheepsheepsheepsheepsheepsheepsheepsheepsheepsheepsheepsheepsheep\n",
      "sheepsheepsheepsheepsheepsheepsheepsheepsheepsheepsheepsheepsheepsheepsheepsheepsheepsheepsheepsheepsheepsheepsheepsheepsheepsheepsheepsheepsheepsheepsheepsheepsheepsheepsheepsheepsheep\n",
      "sheepsheepsheepsheepsheepsheepsheepsheepsheepsheepsheepsheepsheepsheepsheepsheepsheepsheepsheepsheepsheepsheepsheepsheepsheepsheepsheepsheepsheepsheepsheepsheepsheepsheepsheepsheepsheepsheep\n",
      "sheepsheepsheepsheepsheepsheepsheepsheepsheepsheepsheepsheepsheepsheepsheepsheepsheepsheepsheepsheepsheepsheepsheepsheepsheepsheepsheepsheepsheepsheepsheepsheepsheepsheepsheepsheepsheepsheepsheep\n",
      "sheepsheepsheepsheepsheepsheepsheepsheepsheepsheepsheepsheepsheepsheepsheepsheepsheepsheepsheepsheepsheepsheepsheepsheepsheepsheepsheepsheepsheepsheepsheepsheepsheepsheepsheepsheepsheepsheepsheepsheep\n",
      "sheepsheepsheepsheepsheepsheepsheepsheepsheepsheepsheepsheepsheepsheepsheepsheepsheepsheepsheepsheepsheepsheepsheepsheepsheepsheepsheepsheepsheepsheepsheepsheepsheepsheepsheepsheepsheepsheepsheepsheepsheep\n",
      "sheepsheepsheepsheepsheepsheepsheepsheepsheepsheepsheepsheepsheepsheepsheepsheepsheepsheepsheepsheepsheepsheepsheepsheepsheepsheepsheepsheepsheepsheepsheepsheepsheepsheepsheepsheepsheepsheepsheepsheepsheepsheep\n",
      "sheepsheepsheepsheepsheepsheepsheepsheepsheepsheepsheepsheepsheepsheepsheepsheepsheepsheepsheepsheepsheepsheepsheepsheepsheepsheepsheepsheepsheepsheepsheepsheepsheepsheepsheepsheepsheepsheepsheepsheepsheepsheepsheep\n",
      "sheepsheepsheepsheepsheepsheepsheepsheepsheepsheepsheepsheepsheepsheepsheepsheepsheepsheepsheepsheepsheepsheepsheepsheepsheepsheepsheepsheepsheepsheepsheepsheepsheepsheepsheepsheepsheepsheepsheepsheepsheepsheepsheepsheep\n",
      "sheepsheepsheepsheepsheepsheepsheepsheepsheepsheepsheepsheepsheepsheepsheepsheepsheepsheepsheepsheepsheepsheepsheepsheepsheepsheepsheepsheepsheepsheepsheepsheepsheepsheepsheepsheepsheepsheepsheepsheepsheepsheepsheepsheepsheep\n",
      "sheepsheepsheepsheepsheepsheepsheepsheepsheepsheepsheepsheepsheepsheepsheepsheepsheepsheepsheepsheepsheepsheepsheepsheepsheepsheepsheepsheepsheepsheepsheepsheepsheepsheepsheepsheepsheepsheepsheepsheepsheepsheepsheepsheepsheepsheep\n",
      "sheepsheepsheepsheepsheepsheepsheepsheepsheepsheepsheepsheepsheepsheepsheepsheepsheepsheepsheepsheepsheepsheepsheepsheepsheepsheepsheepsheepsheepsheepsheepsheepsheepsheepsheepsheepsheepsheepsheepsheepsheepsheepsheepsheepsheepsheepsheep\n",
      "sheepsheepsheepsheepsheepsheepsheepsheepsheepsheepsheepsheepsheepsheepsheepsheepsheepsheepsheepsheepsheepsheepsheepsheepsheepsheepsheepsheepsheepsheepsheepsheepsheepsheepsheepsheepsheepsheepsheepsheepsheepsheepsheepsheepsheepsheepsheepsheep\n",
      "sheepsheepsheepsheepsheepsheepsheepsheepsheepsheepsheepsheepsheepsheepsheepsheepsheepsheepsheepsheepsheepsheepsheepsheepsheepsheepsheepsheepsheepsheepsheepsheepsheepsheepsheepsheepsheepsheepsheepsheepsheepsheepsheepsheepsheepsheepsheepsheepsheep\n",
      "sheepsheepsheepsheepsheepsheepsheepsheepsheepsheepsheepsheepsheepsheepsheepsheepsheepsheepsheepsheepsheepsheepsheepsheepsheepsheepsheepsheepsheepsheepsheepsheepsheepsheepsheepsheepsheepsheepsheepsheepsheepsheepsheepsheepsheepsheepsheepsheepsheepsheep\n",
      "sheepsheepsheepsheepsheepsheepsheepsheepsheepsheepsheepsheepsheepsheepsheepsheepsheepsheepsheepsheepsheepsheepsheepsheepsheepsheepsheepsheepsheepsheepsheepsheepsheepsheepsheepsheepsheepsheepsheepsheepsheepsheepsheepsheepsheepsheepsheepsheepsheepsheepsheep\n",
      "sheepsheepsheepsheepsheepsheepsheepsheepsheepsheepsheepsheepsheepsheepsheepsheepsheepsheepsheepsheepsheepsheepsheepsheepsheepsheepsheepsheepsheepsheepsheepsheepsheepsheepsheepsheepsheepsheepsheepsheepsheepsheepsheepsheepsheepsheepsheepsheepsheepsheepsheepsheep\n",
      "sheepsheepsheepsheepsheepsheepsheepsheepsheepsheepsheepsheepsheepsheepsheepsheepsheepsheepsheepsheepsheepsheepsheepsheepsheepsheepsheepsheepsheepsheepsheepsheepsheepsheepsheepsheepsheepsheepsheepsheepsheepsheepsheepsheepsheepsheepsheepsheepsheepsheepsheepsheepsheep\n",
      "sheepsheepsheepsheepsheepsheepsheepsheepsheepsheepsheepsheepsheepsheepsheepsheepsheepsheepsheepsheepsheepsheepsheepsheepsheepsheepsheepsheepsheepsheepsheepsheepsheepsheepsheepsheepsheepsheepsheepsheepsheepsheepsheepsheepsheepsheepsheepsheepsheepsheepsheepsheepsheepsheep\n",
      "sheepsheepsheepsheepsheepsheepsheepsheepsheepsheepsheepsheepsheepsheepsheepsheepsheepsheepsheepsheepsheepsheepsheepsheepsheepsheepsheepsheepsheepsheepsheepsheepsheepsheepsheepsheepsheepsheepsheepsheepsheepsheepsheepsheepsheepsheepsheepsheepsheepsheepsheepsheepsheepsheepsheep\n",
      "sheepsheepsheepsheepsheepsheepsheepsheepsheepsheepsheepsheepsheepsheepsheepsheepsheepsheepsheepsheepsheepsheepsheepsheepsheepsheepsheepsheepsheepsheepsheepsheepsheepsheepsheepsheepsheepsheepsheepsheepsheepsheepsheepsheepsheepsheepsheepsheepsheepsheepsheepsheepsheepsheepsheepsheep\n",
      "sheepsheepsheepsheepsheepsheepsheepsheepsheepsheepsheepsheepsheepsheepsheepsheepsheepsheepsheepsheepsheepsheepsheepsheepsheepsheepsheepsheepsheepsheepsheepsheepsheepsheepsheepsheepsheepsheepsheepsheepsheepsheepsheepsheepsheepsheepsheepsheepsheepsheepsheepsheepsheepsheepsheepsheepsheep\n",
      "sheepsheepsheepsheepsheepsheepsheepsheepsheepsheepsheepsheepsheepsheepsheepsheepsheepsheepsheepsheepsheepsheepsheepsheepsheepsheepsheepsheepsheepsheepsheepsheepsheepsheepsheepsheepsheepsheepsheepsheepsheepsheepsheepsheepsheepsheepsheepsheepsheepsheepsheepsheepsheepsheepsheepsheepsheepsheep\n",
      "sheepsheepsheepsheepsheepsheepsheepsheepsheepsheepsheepsheepsheepsheepsheepsheepsheepsheepsheepsheepsheepsheepsheepsheepsheepsheepsheepsheepsheepsheepsheepsheepsheepsheepsheepsheepsheepsheepsheepsheepsheepsheepsheepsheepsheepsheepsheepsheepsheepsheepsheepsheepsheepsheepsheepsheepsheepsheepsheep\n",
      "sheepsheepsheepsheepsheepsheepsheepsheepsheepsheepsheepsheepsheepsheepsheepsheepsheepsheepsheepsheepsheepsheepsheepsheepsheepsheepsheepsheepsheepsheepsheepsheepsheepsheepsheepsheepsheepsheepsheepsheepsheepsheepsheepsheepsheepsheepsheepsheepsheepsheepsheepsheepsheepsheepsheepsheepsheepsheepsheepsheep\n",
      "sheepsheepsheepsheepsheepsheepsheepsheepsheepsheepsheepsheepsheepsheepsheepsheepsheepsheepsheepsheepsheepsheepsheepsheepsheepsheepsheepsheepsheepsheepsheepsheepsheepsheepsheepsheepsheepsheepsheepsheepsheepsheepsheepsheepsheepsheepsheepsheepsheepsheepsheepsheepsheepsheepsheepsheepsheepsheepsheepsheepsheep\n",
      "sheepsheepsheepsheepsheepsheepsheepsheepsheepsheepsheepsheepsheepsheepsheepsheepsheepsheepsheepsheepsheepsheepsheepsheepsheepsheepsheepsheepsheepsheepsheepsheepsheepsheepsheepsheepsheepsheepsheepsheepsheepsheepsheepsheepsheepsheepsheepsheepsheepsheepsheepsheepsheepsheepsheepsheepsheepsheepsheepsheepsheepsheep\n",
      "sheepsheepsheepsheepsheepsheepsheepsheepsheepsheepsheepsheepsheepsheepsheepsheepsheepsheepsheepsheepsheepsheepsheepsheepsheepsheepsheepsheepsheepsheepsheepsheepsheepsheepsheepsheepsheepsheepsheepsheepsheepsheepsheepsheepsheepsheepsheepsheepsheepsheepsheepsheepsheepsheepsheepsheepsheepsheepsheepsheepsheepsheepsheep\n",
      "sheepsheepsheepsheepsheepsheepsheepsheepsheepsheepsheepsheepsheepsheepsheepsheepsheepsheepsheepsheepsheepsheepsheepsheepsheepsheepsheepsheepsheepsheepsheepsheepsheepsheepsheepsheepsheepsheepsheepsheepsheepsheepsheepsheepsheepsheepsheepsheepsheepsheepsheepsheepsheepsheepsheepsheepsheepsheepsheepsheepsheepsheepsheepsheep\n",
      "sheepsheepsheepsheepsheepsheepsheepsheepsheepsheepsheepsheepsheepsheepsheepsheepsheepsheepsheepsheepsheepsheepsheepsheepsheepsheepsheepsheepsheepsheepsheepsheepsheepsheepsheepsheepsheepsheepsheepsheepsheepsheepsheepsheepsheepsheepsheepsheepsheepsheepsheepsheepsheepsheepsheepsheepsheepsheepsheepsheepsheepsheepsheepsheepsheep\n",
      "sheepsheepsheepsheepsheepsheepsheepsheepsheepsheepsheepsheepsheepsheepsheepsheepsheepsheepsheepsheepsheepsheepsheepsheepsheepsheepsheepsheepsheepsheepsheepsheepsheepsheepsheepsheepsheepsheepsheepsheepsheepsheepsheepsheepsheepsheepsheepsheepsheepsheepsheepsheepsheepsheepsheepsheepsheepsheepsheepsheepsheepsheepsheepsheepsheepsheep\n",
      "sheepsheepsheepsheepsheepsheepsheepsheepsheepsheepsheepsheepsheepsheepsheepsheepsheepsheepsheepsheepsheepsheepsheepsheepsheepsheepsheepsheepsheepsheepsheepsheepsheepsheepsheepsheepsheepsheepsheepsheepsheepsheepsheepsheepsheepsheepsheepsheepsheepsheepsheepsheepsheepsheepsheepsheepsheepsheepsheepsheepsheepsheepsheepsheepsheepsheepsheep\n",
      "sheepsheepsheepsheepsheepsheepsheepsheepsheepsheepsheepsheepsheepsheepsheepsheepsheepsheepsheepsheepsheepsheepsheepsheepsheepsheepsheepsheepsheepsheepsheepsheepsheepsheepsheepsheepsheepsheepsheepsheepsheepsheepsheepsheepsheepsheepsheepsheepsheepsheepsheepsheepsheepsheepsheepsheepsheepsheepsheepsheepsheepsheepsheepsheepsheepsheepsheepsheep\n",
      "sheepsheepsheepsheepsheepsheepsheepsheepsheepsheepsheepsheepsheepsheepsheepsheepsheepsheepsheepsheepsheepsheepsheepsheepsheepsheepsheepsheepsheepsheepsheepsheepsheepsheepsheepsheepsheepsheepsheepsheepsheepsheepsheepsheepsheepsheepsheepsheepsheepsheepsheepsheepsheepsheepsheepsheepsheepsheepsheepsheepsheepsheepsheepsheepsheepsheepsheepsheepsheep\n",
      "sheepsheepsheepsheepsheepsheepsheepsheepsheepsheepsheepsheepsheepsheepsheepsheepsheepsheepsheepsheepsheepsheepsheepsheepsheepsheepsheepsheepsheepsheepsheepsheepsheepsheepsheepsheepsheepsheepsheepsheepsheepsheepsheepsheepsheepsheepsheepsheepsheepsheepsheepsheepsheepsheepsheepsheepsheepsheepsheepsheepsheepsheepsheepsheepsheepsheepsheepsheepsheepsheep\n",
      "sheepsheepsheepsheepsheepsheepsheepsheepsheepsheepsheepsheepsheepsheepsheepsheepsheepsheepsheepsheepsheepsheepsheepsheepsheepsheepsheepsheepsheepsheepsheepsheepsheepsheepsheepsheepsheepsheepsheepsheepsheepsheepsheepsheepsheepsheepsheepsheepsheepsheepsheepsheepsheepsheepsheepsheepsheepsheepsheepsheepsheepsheepsheepsheepsheepsheepsheepsheepsheepsheepsheep\n",
      "sheepsheepsheepsheepsheepsheepsheepsheepsheepsheepsheepsheepsheepsheepsheepsheepsheepsheepsheepsheepsheepsheepsheepsheepsheepsheepsheepsheepsheepsheepsheepsheepsheepsheepsheepsheepsheepsheepsheepsheepsheepsheepsheepsheepsheepsheepsheepsheepsheepsheepsheepsheepsheepsheepsheepsheepsheepsheepsheepsheepsheepsheepsheepsheepsheepsheepsheepsheepsheepsheepsheepsheep\n",
      "sheepsheepsheepsheepsheepsheepsheepsheepsheepsheepsheepsheepsheepsheepsheepsheepsheepsheepsheepsheepsheepsheepsheepsheepsheepsheepsheepsheepsheepsheepsheepsheepsheepsheepsheepsheepsheepsheepsheepsheepsheepsheepsheepsheepsheepsheepsheepsheepsheepsheepsheepsheepsheepsheepsheepsheepsheepsheepsheepsheepsheepsheepsheepsheepsheepsheepsheepsheepsheepsheepsheepsheepsheep\n",
      "sheepsheepsheepsheepsheepsheepsheepsheepsheepsheepsheepsheepsheepsheepsheepsheepsheepsheepsheepsheepsheepsheepsheepsheepsheepsheepsheepsheepsheepsheepsheepsheepsheepsheepsheepsheepsheepsheepsheepsheepsheepsheepsheepsheepsheepsheepsheepsheepsheepsheepsheepsheepsheepsheepsheepsheepsheepsheepsheepsheepsheepsheepsheepsheepsheepsheepsheepsheepsheepsheepsheepsheepsheepsheep\n",
      "sheepsheepsheepsheepsheepsheepsheepsheepsheepsheepsheepsheepsheepsheepsheepsheepsheepsheepsheepsheepsheepsheepsheepsheepsheepsheepsheepsheepsheepsheepsheepsheepsheepsheepsheepsheepsheepsheepsheepsheepsheepsheepsheepsheepsheepsheepsheepsheepsheepsheepsheepsheepsheepsheepsheepsheepsheepsheepsheepsheepsheepsheepsheepsheepsheepsheepsheepsheepsheepsheepsheepsheepsheepsheepsheep\n",
      "sheepsheepsheepsheepsheepsheepsheepsheepsheepsheepsheepsheepsheepsheepsheepsheepsheepsheepsheepsheepsheepsheepsheepsheepsheepsheepsheepsheepsheepsheepsheepsheepsheepsheepsheepsheepsheepsheepsheepsheepsheepsheepsheepsheepsheepsheepsheepsheepsheepsheepsheepsheepsheepsheepsheepsheepsheepsheepsheepsheepsheepsheepsheepsheepsheepsheepsheepsheepsheepsheepsheepsheepsheepsheepsheepsheep\n",
      "sheepsheepsheepsheepsheepsheepsheepsheepsheepsheepsheepsheepsheepsheepsheepsheepsheepsheepsheepsheepsheepsheepsheepsheepsheepsheepsheepsheepsheepsheepsheepsheepsheepsheepsheepsheepsheepsheepsheepsheepsheepsheepsheepsheepsheepsheepsheepsheepsheepsheepsheepsheepsheepsheepsheepsheepsheepsheepsheepsheepsheepsheepsheepsheepsheepsheepsheepsheepsheepsheepsheepsheepsheepsheepsheepsheepsheep\n",
      "sheepsheepsheepsheepsheepsheepsheepsheepsheepsheepsheepsheepsheepsheepsheepsheepsheepsheepsheepsheepsheepsheepsheepsheepsheepsheepsheepsheepsheepsheepsheepsheepsheepsheepsheepsheepsheepsheepsheepsheepsheepsheepsheepsheepsheepsheepsheepsheepsheepsheepsheepsheepsheepsheepsheepsheepsheepsheepsheepsheepsheepsheepsheepsheepsheepsheepsheepsheepsheepsheepsheepsheepsheepsheepsheepsheepsheepsheep\n",
      "sheepsheepsheepsheepsheepsheepsheepsheepsheepsheepsheepsheepsheepsheepsheepsheepsheepsheepsheepsheepsheepsheepsheepsheepsheepsheepsheepsheepsheepsheepsheepsheepsheepsheepsheepsheepsheepsheepsheepsheepsheepsheepsheepsheepsheepsheepsheepsheepsheepsheepsheepsheepsheepsheepsheepsheepsheepsheepsheepsheepsheepsheepsheepsheepsheepsheepsheepsheepsheepsheepsheepsheepsheepsheepsheepsheepsheepsheepsheep\n",
      "sheepsheepsheepsheepsheepsheepsheepsheepsheepsheepsheepsheepsheepsheepsheepsheepsheepsheepsheepsheepsheepsheepsheepsheepsheepsheepsheepsheepsheepsheepsheepsheepsheepsheepsheepsheepsheepsheepsheepsheepsheepsheepsheepsheepsheepsheepsheepsheepsheepsheepsheepsheepsheepsheepsheepsheepsheepsheepsheepsheepsheepsheepsheepsheepsheepsheepsheepsheepsheepsheepsheepsheepsheepsheepsheepsheepsheepsheepsheepsheep\n",
      "sheepsheepsheepsheepsheepsheepsheepsheepsheepsheepsheepsheepsheepsheepsheepsheepsheepsheepsheepsheepsheepsheepsheepsheepsheepsheepsheepsheepsheepsheepsheepsheepsheepsheepsheepsheepsheepsheepsheepsheepsheepsheepsheepsheepsheepsheepsheepsheepsheepsheepsheepsheepsheepsheepsheepsheepsheepsheepsheepsheepsheepsheepsheepsheepsheepsheepsheepsheepsheepsheepsheepsheepsheepsheepsheepsheepsheepsheepsheepsheepsheep\n",
      "sheepsheepsheepsheepsheepsheepsheepsheepsheepsheepsheepsheepsheepsheepsheepsheepsheepsheepsheepsheepsheepsheepsheepsheepsheepsheepsheepsheepsheepsheepsheepsheepsheepsheepsheepsheepsheepsheepsheepsheepsheepsheepsheepsheepsheepsheepsheepsheepsheepsheepsheepsheepsheepsheepsheepsheepsheepsheepsheepsheepsheepsheepsheepsheepsheepsheepsheepsheepsheepsheepsheepsheepsheepsheepsheepsheepsheepsheepsheepsheepsheepsheep\n",
      "sheepsheepsheepsheepsheepsheepsheepsheepsheepsheepsheepsheepsheepsheepsheepsheepsheepsheepsheepsheepsheepsheepsheepsheepsheepsheepsheepsheepsheepsheepsheepsheepsheepsheepsheepsheepsheepsheepsheepsheepsheepsheepsheepsheepsheepsheepsheepsheepsheepsheepsheepsheepsheepsheepsheepsheepsheepsheepsheepsheepsheepsheepsheepsheepsheepsheepsheepsheepsheepsheepsheepsheepsheepsheepsheepsheepsheepsheepsheepsheepsheepsheepsheep\n",
      "sheepsheepsheepsheepsheepsheepsheepsheepsheepsheepsheepsheepsheepsheepsheepsheepsheepsheepsheepsheepsheepsheepsheepsheepsheepsheepsheepsheepsheepsheepsheepsheepsheepsheepsheepsheepsheepsheepsheepsheepsheepsheepsheepsheepsheepsheepsheepsheepsheepsheepsheepsheepsheepsheepsheepsheepsheepsheepsheepsheepsheepsheepsheepsheepsheepsheepsheepsheepsheepsheepsheepsheepsheepsheepsheepsheepsheepsheepsheepsheepsheepsheepsheepsheep\n",
      "sheepsheepsheepsheepsheepsheepsheepsheepsheepsheepsheepsheepsheepsheepsheepsheepsheepsheepsheepsheepsheepsheepsheepsheepsheepsheepsheepsheepsheepsheepsheepsheepsheepsheepsheepsheepsheepsheepsheepsheepsheepsheepsheepsheepsheepsheepsheepsheepsheepsheepsheepsheepsheepsheepsheepsheepsheepsheepsheepsheepsheepsheepsheepsheepsheepsheepsheepsheepsheepsheepsheepsheepsheepsheepsheepsheepsheepsheepsheepsheepsheepsheepsheepsheepsheep\n",
      "sheepsheepsheepsheepsheepsheepsheepsheepsheepsheepsheepsheepsheepsheepsheepsheepsheepsheepsheepsheepsheepsheepsheepsheepsheepsheepsheepsheepsheepsheepsheepsheepsheepsheepsheepsheepsheepsheepsheepsheepsheepsheepsheepsheepsheepsheepsheepsheepsheepsheepsheepsheepsheepsheepsheepsheepsheepsheepsheepsheepsheepsheepsheepsheepsheepsheepsheepsheepsheepsheepsheepsheepsheepsheepsheepsheepsheepsheepsheepsheepsheepsheepsheepsheepsheepsheep\n",
      "sheepsheepsheepsheepsheepsheepsheepsheepsheepsheepsheepsheepsheepsheepsheepsheepsheepsheepsheepsheepsheepsheepsheepsheepsheepsheepsheepsheepsheepsheepsheepsheepsheepsheepsheepsheepsheepsheepsheepsheepsheepsheepsheepsheepsheepsheepsheepsheepsheepsheepsheepsheepsheepsheepsheepsheepsheepsheepsheepsheepsheepsheepsheepsheepsheepsheepsheepsheepsheepsheepsheepsheepsheepsheepsheepsheepsheepsheepsheepsheepsheepsheepsheepsheepsheepsheepsheep\n",
      "sheepsheepsheepsheepsheepsheepsheepsheepsheepsheepsheepsheepsheepsheepsheepsheepsheepsheepsheepsheepsheepsheepsheepsheepsheepsheepsheepsheepsheepsheepsheepsheepsheepsheepsheepsheepsheepsheepsheepsheepsheepsheepsheepsheepsheepsheepsheepsheepsheepsheepsheepsheepsheepsheepsheepsheepsheepsheepsheepsheepsheepsheepsheepsheepsheepsheepsheepsheepsheepsheepsheepsheepsheepsheepsheepsheepsheepsheepsheepsheepsheepsheepsheepsheepsheepsheepsheepsheep\n",
      "sheepsheepsheepsheepsheepsheepsheepsheepsheepsheepsheepsheepsheepsheepsheepsheepsheepsheepsheepsheepsheepsheepsheepsheepsheepsheepsheepsheepsheepsheepsheepsheepsheepsheepsheepsheepsheepsheepsheepsheepsheepsheepsheepsheepsheepsheepsheepsheepsheepsheepsheepsheepsheepsheepsheepsheepsheepsheepsheepsheepsheepsheepsheepsheepsheepsheepsheepsheepsheepsheepsheepsheepsheepsheepsheepsheepsheepsheepsheepsheepsheepsheepsheepsheepsheepsheepsheepsheepsheep\n",
      "sheepsheepsheepsheepsheepsheepsheepsheepsheepsheepsheepsheepsheepsheepsheepsheepsheepsheepsheepsheepsheepsheepsheepsheepsheepsheepsheepsheepsheepsheepsheepsheepsheepsheepsheepsheepsheepsheepsheepsheepsheepsheepsheepsheepsheepsheepsheepsheepsheepsheepsheepsheepsheepsheepsheepsheepsheepsheepsheepsheepsheepsheepsheepsheepsheepsheepsheepsheepsheepsheepsheepsheepsheepsheepsheepsheepsheepsheepsheepsheepsheepsheepsheepsheepsheepsheepsheepsheepsheepsheep\n",
      "sheepsheepsheepsheepsheepsheepsheepsheepsheepsheepsheepsheepsheepsheepsheepsheepsheepsheepsheepsheepsheepsheepsheepsheepsheepsheepsheepsheepsheepsheepsheepsheepsheepsheepsheepsheepsheepsheepsheepsheepsheepsheepsheepsheepsheepsheepsheepsheepsheepsheepsheepsheepsheepsheepsheepsheepsheepsheepsheepsheepsheepsheepsheepsheepsheepsheepsheepsheepsheepsheepsheepsheepsheepsheepsheepsheepsheepsheepsheepsheepsheepsheepsheepsheepsheepsheepsheepsheepsheepsheepsheep\n",
      "sheepsheepsheepsheepsheepsheepsheepsheepsheepsheepsheepsheepsheepsheepsheepsheepsheepsheepsheepsheepsheepsheepsheepsheepsheepsheepsheepsheepsheepsheepsheepsheepsheepsheepsheepsheepsheepsheepsheepsheepsheepsheepsheepsheepsheepsheepsheepsheepsheepsheepsheepsheepsheepsheepsheepsheepsheepsheepsheepsheepsheepsheepsheepsheepsheepsheepsheepsheepsheepsheepsheepsheepsheepsheepsheepsheepsheepsheepsheepsheepsheepsheepsheepsheepsheepsheepsheepsheepsheepsheepsheepsheep\n",
      "sheepsheepsheepsheepsheepsheepsheepsheepsheepsheepsheepsheepsheepsheepsheepsheepsheepsheepsheepsheepsheepsheepsheepsheepsheepsheepsheepsheepsheepsheepsheepsheepsheepsheepsheepsheepsheepsheepsheepsheepsheepsheepsheepsheepsheepsheepsheepsheepsheepsheepsheepsheepsheepsheepsheepsheepsheepsheepsheepsheepsheepsheepsheepsheepsheepsheepsheepsheepsheepsheepsheepsheepsheepsheepsheepsheepsheepsheepsheepsheepsheepsheepsheepsheepsheepsheepsheepsheepsheepsheepsheepsheepsheep\n",
      "sheepsheepsheepsheepsheepsheepsheepsheepsheepsheepsheepsheepsheepsheepsheepsheepsheepsheepsheepsheepsheepsheepsheepsheepsheepsheepsheepsheepsheepsheepsheepsheepsheepsheepsheepsheepsheepsheepsheepsheepsheepsheepsheepsheepsheepsheepsheepsheepsheepsheepsheepsheepsheepsheepsheepsheepsheepsheepsheepsheepsheepsheepsheepsheepsheepsheepsheepsheepsheepsheepsheepsheepsheepsheepsheepsheepsheepsheepsheepsheepsheepsheepsheepsheepsheepsheepsheepsheepsheepsheepsheepsheepsheepsheep\n",
      "sheepsheepsheepsheepsheepsheepsheepsheepsheepsheepsheepsheepsheepsheepsheepsheepsheepsheepsheepsheepsheepsheepsheepsheepsheepsheepsheepsheepsheepsheepsheepsheepsheepsheepsheepsheepsheepsheepsheepsheepsheepsheepsheepsheepsheepsheepsheepsheepsheepsheepsheepsheepsheepsheepsheepsheepsheepsheepsheepsheepsheepsheepsheepsheepsheepsheepsheepsheepsheepsheepsheepsheepsheepsheepsheepsheepsheepsheepsheepsheepsheepsheepsheepsheepsheepsheepsheepsheepsheepsheepsheepsheepsheepsheepsheep\n",
      "sheepsheepsheepsheepsheepsheepsheepsheepsheepsheepsheepsheepsheepsheepsheepsheepsheepsheepsheepsheepsheepsheepsheepsheepsheepsheepsheepsheepsheepsheepsheepsheepsheepsheepsheepsheepsheepsheepsheepsheepsheepsheepsheepsheepsheepsheepsheepsheepsheepsheepsheepsheepsheepsheepsheepsheepsheepsheepsheepsheepsheepsheepsheepsheepsheepsheepsheepsheepsheepsheepsheepsheepsheepsheepsheepsheepsheepsheepsheepsheepsheepsheepsheepsheepsheepsheepsheepsheepsheepsheepsheepsheepsheepsheepsheepsheep\n",
      "sheepsheepsheepsheepsheepsheepsheepsheepsheepsheepsheepsheepsheepsheepsheepsheepsheepsheepsheepsheepsheepsheepsheepsheepsheepsheepsheepsheepsheepsheepsheepsheepsheepsheepsheepsheepsheepsheepsheepsheepsheepsheepsheepsheepsheepsheepsheepsheepsheepsheepsheepsheepsheepsheepsheepsheepsheepsheepsheepsheepsheepsheepsheepsheepsheepsheepsheepsheepsheepsheepsheepsheepsheepsheepsheepsheepsheepsheepsheepsheepsheepsheepsheepsheepsheepsheepsheepsheepsheepsheepsheepsheepsheepsheepsheepsheepsheep\n",
      "sheepsheepsheepsheepsheepsheepsheepsheepsheepsheepsheepsheepsheepsheepsheepsheepsheepsheepsheepsheepsheepsheepsheepsheepsheepsheepsheepsheepsheepsheepsheepsheepsheepsheepsheepsheepsheepsheepsheepsheepsheepsheepsheepsheepsheepsheepsheepsheepsheepsheepsheepsheepsheepsheepsheepsheepsheepsheepsheepsheepsheepsheepsheepsheepsheepsheepsheepsheepsheepsheepsheepsheepsheepsheepsheepsheepsheepsheepsheepsheepsheepsheepsheepsheepsheepsheepsheepsheepsheepsheepsheepsheepsheepsheepsheepsheepsheepsheep\n",
      "sheepsheepsheepsheepsheepsheepsheepsheepsheepsheepsheepsheepsheepsheepsheepsheepsheepsheepsheepsheepsheepsheepsheepsheepsheepsheepsheepsheepsheepsheepsheepsheepsheepsheepsheepsheepsheepsheepsheepsheepsheepsheepsheepsheepsheepsheepsheepsheepsheepsheepsheepsheepsheepsheepsheepsheepsheepsheepsheepsheepsheepsheepsheepsheepsheepsheepsheepsheepsheepsheepsheepsheepsheepsheepsheepsheepsheepsheepsheepsheepsheepsheepsheepsheepsheepsheepsheepsheepsheepsheepsheepsheepsheepsheepsheepsheepsheepsheepsheep\n"
     ]
    },
    {
     "ename": "ValueError",
     "evalue": "invalid literal for int() with base 10: ''",
     "output_type": "error",
     "traceback": [
      "\u001b[1;31m---------------------------------------------------------------------------\u001b[0m",
      "\u001b[1;31mValueError\u001b[0m                                Traceback (most recent call last)",
      "Cell \u001b[1;32mIn[23], line 15\u001b[0m\n\u001b[0;32m     12\u001b[0m     \u001b[38;5;28;01mreturn\u001b[39;00m flock\n\u001b[0;32m     14\u001b[0m \u001b[38;5;28;01mif\u001b[39;00m \u001b[38;5;18m__name__\u001b[39m \u001b[38;5;241m==\u001b[39m \u001b[38;5;124m\"\u001b[39m\u001b[38;5;124m__main__\u001b[39m\u001b[38;5;124m\"\u001b[39m:\n\u001b[1;32m---> 15\u001b[0m     \u001b[43mmain\u001b[49m\u001b[43m(\u001b[49m\u001b[43m)\u001b[49m\n",
      "Cell \u001b[1;32mIn[23], line 4\u001b[0m, in \u001b[0;36mmain\u001b[1;34m()\u001b[0m\n\u001b[0;32m      3\u001b[0m \u001b[38;5;28;01mdef\u001b[39;00m \u001b[38;5;21mmain\u001b[39m():\n\u001b[1;32m----> 4\u001b[0m     n \u001b[38;5;241m=\u001b[39m \u001b[38;5;28;43mint\u001b[39;49m\u001b[43m(\u001b[49m\u001b[38;5;28;43minput\u001b[39;49m\u001b[43m(\u001b[49m\u001b[38;5;124;43m\"\u001b[39;49m\u001b[38;5;124;43mWhat\u001b[39;49m\u001b[38;5;124;43m'\u001b[39;49m\u001b[38;5;124;43ms n? \u001b[39;49m\u001b[38;5;124;43m\"\u001b[39;49m\u001b[43m)\u001b[49m\u001b[43m)\u001b[49m\n",
      "\u001b[1;31mValueError\u001b[0m: invalid literal for int() with base 10: ''"
     ]
    }
   ],
   "source": [
    "#Generators\n",
    "#Avoid runing out of memory\n",
    "def main():\n",
    "    n = int(input(\"What's n? \"))\n",
    "for s in sheep(n):\n",
    "    print(s)\n",
    "\n",
    "def sheep(n):\n",
    "    flock = []\n",
    "    for i in range(n):\n",
    "        flock.append(\"sheep\" * i)\n",
    "    return flock\n",
    "\n",
    "if __name__ == \"__main__\":\n",
    "    main()\n"
   ]
  },
  {
   "cell_type": "code",
   "execution_count": 26,
   "metadata": {},
   "outputs": [
    {
     "name": "stdout",
     "output_type": "stream",
     "text": [
      "\n",
      "sheep\n",
      "sheepsheep\n",
      "sheepsheepsheep\n",
      "sheepsheepsheepsheep\n",
      "sheepsheepsheepsheepsheep\n",
      "sheepsheepsheepsheepsheepsheep\n",
      "sheepsheepsheepsheepsheepsheepsheep\n",
      "sheepsheepsheepsheepsheepsheepsheepsheep\n",
      "sheepsheepsheepsheepsheepsheepsheepsheepsheep\n"
     ]
    }
   ],
   "source": [
    "#Generator produces a lot of data but returns just a little bit at a time\n",
    "#yield \n",
    "def main():\n",
    "    n = int(input(\"What's n? \"))\n",
    "    for s in sheep(n):\n",
    "        print(s)\n",
    "\n",
    "def sheep(n):\n",
    "    for i in range(n):\n",
    "        yield \"sheep\" * i\n",
    "\n",
    "\n",
    "if __name__ == \"__main__\":\n",
    "    main()"
   ]
  },
  {
   "cell_type": "code",
   "execution_count": null,
   "metadata": {},
   "outputs": [],
   "source": []
  }
 ],
 "metadata": {
  "kernelspec": {
   "display_name": "Python 3",
   "language": "python",
   "name": "python3"
  },
  "language_info": {
   "codemirror_mode": {
    "name": "ipython",
    "version": 3
   },
   "file_extension": ".py",
   "mimetype": "text/x-python",
   "name": "python",
   "nbconvert_exporter": "python",
   "pygments_lexer": "ipython3",
   "version": "3.9.10"
  }
 },
 "nbformat": 4,
 "nbformat_minor": 2
}
